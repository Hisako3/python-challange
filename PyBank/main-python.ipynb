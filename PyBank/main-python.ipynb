{
 "cells": [
  {
   "cell_type": "code",
   "execution_count": 29,
   "id": "b05e108a-0bef-4fcf-80f8-ba6e7ffc5623",
   "metadata": {},
   "outputs": [],
   "source": [
    "import os\n",
    "import csv"
   ]
  },
  {
   "cell_type": "code",
   "execution_count": 30,
   "metadata": {},
   "outputs": [],
   "source": [
    "os.chdir(r'C:\\\\Users\\\\yama2\\\\OneDrive\\Documents\\\\Modules\\\\Module3 Python\\\\python-challange\\\\PyBank\\\\Resources')"
   ]
  },
  {
   "cell_type": "code",
   "execution_count": 18,
   "metadata": {},
   "outputs": [],
   "source": [
    "budget_csv = os.path.join('budget_data.csv')\n",
    "rows = []\n",
    "profit_changes = []\n",
    "total_months = 0\n",
    "total_profit = 0\n",
    "max_change = 0\n",
    "min_change = 0\n",
    "\n",
    "with open(budget_csv, 'r') as csvfile:\n",
    "    budget_df = csv.reader(csvfile, delimiter=',')\n",
    "    header = next(budget_df)\n",
    "    for row in budget_df:\n",
    "        rows.append(row)\n",
    "        \n",
    "    for row in rows:\n",
    "        # Calculate total months\n",
    "        total_months += 1\n",
    "        \n",
    "        # Calculate total profit\n",
    "        total_profit += int(row[1])\n",
    "\n",
    "        # Calculate profit change and store in list\n",
    "        if total_months > 1:\n",
    "            profit_change = int(row[1]) - previous_profit\n",
    "            profit_changes.append(profit_change)\n",
    "         # Calculate max & min changes\n",
    "        if profit_change > max_change:\n",
    "            max_change = profit_change\n",
    "            max_date = str(row[0])\n",
    "        if profit_change < min_change:\n",
    "            min_change = profit_change\n",
    "            min_date = str(row[0])\n",
    "        \n",
    "        # Update previous profit for the next iteration\n",
    "        previous_profit = int(row[1])\n",
    "\n",
    "average_change = sum(profit_changes)/(total_months-1)"
   ]
  },
  {
   "cell_type": "code",
   "execution_count": 27,
   "metadata": {},
   "outputs": [
    {
     "name": "stdout",
     "output_type": "stream",
     "text": [
      "Financial Analysis\n",
      "----------------------------\n",
      "Total Months: 86\n",
      "Total: $22564198\n",
      "Average Change: $-8311.11\n",
      "Greatest Increase in Profits: Aug-16 ($1862002)\n",
      "Greatest Decrease in Profits: Feb-14 ($-1825558)\n",
      "\n"
     ]
    }
   ],
   "source": [
    "# Generate Output Summary\n",
    "output = (\n",
    "    f\"Financial Analysis\\n\"\n",
    "    f\"----------------------------\\n\"\n",
    "    f\"Total Months: {total_months}\\n\"\n",
    "    f\"Total: ${total_profit}\\n\"\n",
    "    f\"Average Change: ${average_change:.2f}\\n\"\n",
    "    f\"Greatest Increase in Profits: {max_date} (${max_change})\\n\"\n",
    "    f\"Greatest Decrease in Profits: {min_date} (${min_change})\\n\")\n",
    "\n",
    "print(output)\n"
   ]
  },
  {
   "cell_type": "code",
   "execution_count": 31,
   "metadata": {},
   "outputs": [],
   "source": [
    "os.chdir(r'C:\\\\Users\\\\yama2\\\\OneDrive\\Documents\\\\Modules\\\\Module3 Python\\\\python-challange\\\\PyBank')\n",
    "\n",
    "# Export the results to text file\n",
    "file_to_output = os.path.join('file_to_output')\n",
    "with open(file_to_output, \"w\") as txt_file:\n",
    "    txt_file.write(output)"
   ]
  }
 ],
 "metadata": {
  "kernelspec": {
   "display_name": "Python 3 (ipykernel)",
   "language": "python",
   "name": "python3"
  },
  "language_info": {
   "codemirror_mode": {
    "name": "ipython",
    "version": 3
   },
   "file_extension": ".py",
   "mimetype": "text/x-python",
   "name": "python",
   "nbconvert_exporter": "python",
   "pygments_lexer": "ipython3",
   "version": "3.11.6"
  }
 },
 "nbformat": 4,
 "nbformat_minor": 5
}
