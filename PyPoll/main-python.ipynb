{
 "cells": [
  {
   "cell_type": "code",
   "execution_count": 1,
   "metadata": {},
   "outputs": [],
   "source": [
    "import os\n",
    "import csv"
   ]
  },
  {
   "cell_type": "code",
   "execution_count": 2,
   "metadata": {},
   "outputs": [],
   "source": [
    "os.chdir(r'C:\\\\Users\\\\yama2\\\\OneDrive\\Documents\\\\Modules\\\\Module3 Python\\\\python-challange\\\\PyPoll\\\\Resources')"
   ]
  },
  {
   "cell_type": "code",
   "execution_count": 3,
   "metadata": {},
   "outputs": [
    {
     "name": "stdout",
     "output_type": "stream",
     "text": [
      "Election Results\n",
      "----------------------------------------------\n",
      "Total Votes: 369711\n",
      "----------------------------------------------\n",
      "Charles Casper Stockham: 23.049 %( 85213 )\n",
      "Diana DeGette: 73.812 %( 272892 )\n",
      "Raymon Anthony Doane 3.139 %( 11606 )\n",
      "----------------------------------------------\n",
      "Winner: ['Diana DeGette']\n"
     ]
    }
   ],
   "source": [
    "election_csv = os.path.join('election_data.csv')\n",
    "rows = []\n",
    "poll_list = []\n",
    "total_votes = 0\n",
    "candidate_list = []\n",
    "winner = []\n",
    "\n",
    "with open(election_csv, 'r') as csvfile:\n",
    "    election_df = csv.reader(csvfile, delimiter=',')\n",
    "    header = next(election_df)\n",
    "    for row in election_df:\n",
    "        rows.append(row)\n",
    "        \n",
    "    for row in rows:\n",
    "        # month count\n",
    "        total_votes += 1\n",
    "        candidate = row[2]\n",
    "        poll_list.append(candidate)\n",
    "    \n",
    "    for i in poll_list:\n",
    "          if i not in candidate_list:\n",
    "                candidate_list.append(i)\n",
    "        \n",
    " \n",
    "candit1_percent = poll_list.count(candidate_list[0])/total_votes*100\n",
    "candit1_count = poll_list.count(candidate_list[0])\n",
    "\n",
    "candit2_percent = poll_list.count(candidate_list[1])/total_votes*100\n",
    "candit2_count = poll_list.count(candidate_list[1])\n",
    "\n",
    "candit3_percent = poll_list.count(candidate_list[2])/total_votes*100\n",
    "candit3_count = poll_list.count(candidate_list[2])\n",
    "\n",
    "if candit1_percent >= candit2_percent and candit1_percent >= candit3_percent:\n",
    "    winner.append(candidate_list[0])\n",
    "if candit2_percent >= candit1_percent and candit2_percent >= candit3_percent:\n",
    "      winner.append(candidate_list[1])\n",
    "if candit3_percent >= candit1_percent and candit3_percent >= candit2_percent:\n",
    "     winner.append(candidate_list[2])   \n",
    "\n",
    "\n",
    "print(\"Election Results\")\n",
    "print(\"----------------------------------------------\")\n",
    "print(\"Total Votes:\", total_votes)\n",
    "print(\"----------------------------------------------\")\n",
    "print(\"Charles Casper Stockham:\", round(candit1_percent, 3),\"%(\",candit1_count,\")\")\n",
    "print(\"Diana DeGette:\", round(candit2_percent, 3),\"%(\",candit2_count,\")\")\n",
    "print(\"Raymon Anthony Doane\",round(candit3_percent, 3),\"%(\",candit3_count,\")\")\n",
    "print(\"----------------------------------------------\")\n",
    "print(\"Winner:\", winner)"
   ]
  }
 ],
 "metadata": {
  "kernelspec": {
   "display_name": "Python 3",
   "language": "python",
   "name": "python3"
  },
  "language_info": {
   "codemirror_mode": {
    "name": "ipython",
    "version": 3
   },
   "file_extension": ".py",
   "mimetype": "text/x-python",
   "name": "python",
   "nbconvert_exporter": "python",
   "pygments_lexer": "ipython3",
   "version": "3.11.6"
  }
 },
 "nbformat": 4,
 "nbformat_minor": 2
}
